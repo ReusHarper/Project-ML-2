{
 "cells": [
  {
   "cell_type": "code",
   "execution_count": null,
   "metadata": {
    "colab": {},
    "colab_type": "code",
    "id": "astQhBXrsVcQ"
   },
   "outputs": [],
   "source": [
    "# Realizamos las importaciones de paquetes y bibliotecas necesarias\n",
    "import math\n",
    "import numpy as np\n",
    "from decimal import Decimal\n",
    "import pandas as pd\n",
    "import matplotlib.pyplot as plt\n",
    "from sklearn.linear_model import LinearRegression"
   ]
  },
  {
   "cell_type": "code",
   "execution_count": null,
   "metadata": {
    "colab": {},
    "colab_type": "code",
    "id": "GMNZXeSSsVci"
   },
   "outputs": [],
   "source": [
    "# Almacenamos los datos de los estadísticos, correspondiente a los estados, casos y muertes registradas respectivamente\n",
    "Estado=('Ciudad de México','Estado de México','Baja California','Tabasco','Veracruz','Sinaloa','Puebla','Nuevo León','Jalisco','Sonora','Quintana Roo','Chihuahua','Tamaulipas','Michoaca','Yucatan','Guanajuato','Hidalgo','Guerrero','Chiapas','Morelos','Oaxaca','Coahuila','Aguascalientes','Tlaxcala','Queretaro','San Luis Potosi','Baja Cal. Sur','Campeche','Nayarit','Durango','Zacatecas','Colima')\n",
    "Casos=(21826,13140,4590,3484,3374,2903,2458,2353,1962,1809,1729,1665,1644,1625,1616,1564,1479,1421,1402,1297,1144,1044,972,944,813,786,557,583,503,279,274,128)\n",
    "Muertes=(1945,1393,771,438,444,427,419,92,125,139,323,292,98,149,170,127,234,217,106,261,122,72,33,153,96,46,33,58,45,38,32,22)"
   ]
  },
  {
   "cell_type": "code",
   "execution_count": null,
   "metadata": {
    "colab": {},
    "colab_type": "code",
    "id": "P-jRAaTGsVcu"
   },
   "outputs": [],
   "source": [
    "datos={\n",
    "    'Estado':['Ciudad de México','Estado de México','Baja California','Tabasco','Veracruz','Sinaloa','Puebla','Nuevo León','Jalisco','Sonora','Quintana Roo','Chihuahua','Tamaulipas','Michoaca','Yucatan','Guanajuato','Hidalgo','Guerrero','Chiapas','Morelos','Oaxaca','Coahuila','Aguascalientes','Tlaxcala','Queretaro','San Luis Potosi','Baja Cal. Sur','Campeche','Nayarit','Durango','Zacatecas','Colima'],\n",
    "    'Casos':[21826,13140,4590,3484,3374,2903,2458,2353,1962,1809,1729,1665,1644,1625,1616,1564,1479,1421,1402,1297,1144,1044,972,944,813,786,557,583,503,279,274,128],\n",
    "    'Muertes':[1945,1393,771,438,444,427,419,92,125,139,323,292,98,149,170,127,234,217,106,261,122,72,33,153,96,46,33,58,45,38,32,22]    \n",
    "}"
   ]
  },
  {
   "cell_type": "markdown",
   "metadata": {
    "colab_type": "text",
    "id": "V39sDV0fsVc2"
   },
   "source": [
    "A continuación se presentaran los casos y muertes por Covid-19 en cada estado de la Republica Mexicana\n",
    "========================================\n",
    " por:\n",
    " - Chilpa Navarro Martin Enrique\n",
    " - Espinosa Guadarrama Arturo\n",
    " _______________________"
   ]
  },
  {
   "cell_type": "code",
   "execution_count": null,
   "metadata": {
    "colab": {},
    "colab_type": "code",
    "id": "zwr3UoHAsVc3",
    "outputId": "ee009cf2-0499-4d56-960e-8fac9e47ea46"
   },
   "outputs": [
    {
     "data": {
      "text/html": [
       "<div>\n",
       "<style scoped>\n",
       "    .dataframe tbody tr th:only-of-type {\n",
       "        vertical-align: middle;\n",
       "    }\n",
       "\n",
       "    .dataframe tbody tr th {\n",
       "        vertical-align: top;\n",
       "    }\n",
       "\n",
       "    .dataframe thead th {\n",
       "        text-align: right;\n",
       "    }\n",
       "</style>\n",
       "<table border=\"1\" class=\"dataframe\">\n",
       "  <thead>\n",
       "    <tr style=\"text-align: right;\">\n",
       "      <th></th>\n",
       "      <th>Estado</th>\n",
       "      <th>Casos</th>\n",
       "      <th>Muertes</th>\n",
       "    </tr>\n",
       "  </thead>\n",
       "  <tbody>\n",
       "    <tr>\n",
       "      <th>0</th>\n",
       "      <td>Ciudad de México</td>\n",
       "      <td>21826</td>\n",
       "      <td>1945</td>\n",
       "    </tr>\n",
       "    <tr>\n",
       "      <th>1</th>\n",
       "      <td>Estado de México</td>\n",
       "      <td>13140</td>\n",
       "      <td>1393</td>\n",
       "    </tr>\n",
       "    <tr>\n",
       "      <th>2</th>\n",
       "      <td>Baja California</td>\n",
       "      <td>4590</td>\n",
       "      <td>771</td>\n",
       "    </tr>\n",
       "    <tr>\n",
       "      <th>3</th>\n",
       "      <td>Tabasco</td>\n",
       "      <td>3484</td>\n",
       "      <td>438</td>\n",
       "    </tr>\n",
       "    <tr>\n",
       "      <th>4</th>\n",
       "      <td>Veracruz</td>\n",
       "      <td>3374</td>\n",
       "      <td>444</td>\n",
       "    </tr>\n",
       "    <tr>\n",
       "      <th>5</th>\n",
       "      <td>Sinaloa</td>\n",
       "      <td>2903</td>\n",
       "      <td>427</td>\n",
       "    </tr>\n",
       "    <tr>\n",
       "      <th>6</th>\n",
       "      <td>Puebla</td>\n",
       "      <td>2458</td>\n",
       "      <td>419</td>\n",
       "    </tr>\n",
       "    <tr>\n",
       "      <th>7</th>\n",
       "      <td>Nuevo León</td>\n",
       "      <td>2353</td>\n",
       "      <td>92</td>\n",
       "    </tr>\n",
       "    <tr>\n",
       "      <th>8</th>\n",
       "      <td>Jalisco</td>\n",
       "      <td>1962</td>\n",
       "      <td>125</td>\n",
       "    </tr>\n",
       "    <tr>\n",
       "      <th>9</th>\n",
       "      <td>Sonora</td>\n",
       "      <td>1809</td>\n",
       "      <td>139</td>\n",
       "    </tr>\n",
       "    <tr>\n",
       "      <th>10</th>\n",
       "      <td>Quintana Roo</td>\n",
       "      <td>1729</td>\n",
       "      <td>323</td>\n",
       "    </tr>\n",
       "    <tr>\n",
       "      <th>11</th>\n",
       "      <td>Chihuahua</td>\n",
       "      <td>1665</td>\n",
       "      <td>292</td>\n",
       "    </tr>\n",
       "    <tr>\n",
       "      <th>12</th>\n",
       "      <td>Tamaulipas</td>\n",
       "      <td>1644</td>\n",
       "      <td>98</td>\n",
       "    </tr>\n",
       "    <tr>\n",
       "      <th>13</th>\n",
       "      <td>Michoaca</td>\n",
       "      <td>1625</td>\n",
       "      <td>149</td>\n",
       "    </tr>\n",
       "    <tr>\n",
       "      <th>14</th>\n",
       "      <td>Yucatan</td>\n",
       "      <td>1616</td>\n",
       "      <td>170</td>\n",
       "    </tr>\n",
       "    <tr>\n",
       "      <th>15</th>\n",
       "      <td>Guanajuato</td>\n",
       "      <td>1564</td>\n",
       "      <td>127</td>\n",
       "    </tr>\n",
       "    <tr>\n",
       "      <th>16</th>\n",
       "      <td>Hidalgo</td>\n",
       "      <td>1479</td>\n",
       "      <td>234</td>\n",
       "    </tr>\n",
       "    <tr>\n",
       "      <th>17</th>\n",
       "      <td>Guerrero</td>\n",
       "      <td>1421</td>\n",
       "      <td>217</td>\n",
       "    </tr>\n",
       "    <tr>\n",
       "      <th>18</th>\n",
       "      <td>Chiapas</td>\n",
       "      <td>1402</td>\n",
       "      <td>106</td>\n",
       "    </tr>\n",
       "    <tr>\n",
       "      <th>19</th>\n",
       "      <td>Morelos</td>\n",
       "      <td>1297</td>\n",
       "      <td>261</td>\n",
       "    </tr>\n",
       "    <tr>\n",
       "      <th>20</th>\n",
       "      <td>Oaxaca</td>\n",
       "      <td>1144</td>\n",
       "      <td>122</td>\n",
       "    </tr>\n",
       "    <tr>\n",
       "      <th>21</th>\n",
       "      <td>Coahuila</td>\n",
       "      <td>1044</td>\n",
       "      <td>72</td>\n",
       "    </tr>\n",
       "    <tr>\n",
       "      <th>22</th>\n",
       "      <td>Aguascalientes</td>\n",
       "      <td>972</td>\n",
       "      <td>33</td>\n",
       "    </tr>\n",
       "    <tr>\n",
       "      <th>23</th>\n",
       "      <td>Tlaxcala</td>\n",
       "      <td>944</td>\n",
       "      <td>153</td>\n",
       "    </tr>\n",
       "    <tr>\n",
       "      <th>24</th>\n",
       "      <td>Queretaro</td>\n",
       "      <td>813</td>\n",
       "      <td>96</td>\n",
       "    </tr>\n",
       "    <tr>\n",
       "      <th>25</th>\n",
       "      <td>San Luis Potosi</td>\n",
       "      <td>786</td>\n",
       "      <td>46</td>\n",
       "    </tr>\n",
       "    <tr>\n",
       "      <th>26</th>\n",
       "      <td>Baja Cal. Sur</td>\n",
       "      <td>557</td>\n",
       "      <td>33</td>\n",
       "    </tr>\n",
       "    <tr>\n",
       "      <th>27</th>\n",
       "      <td>Campeche</td>\n",
       "      <td>583</td>\n",
       "      <td>58</td>\n",
       "    </tr>\n",
       "    <tr>\n",
       "      <th>28</th>\n",
       "      <td>Nayarit</td>\n",
       "      <td>503</td>\n",
       "      <td>45</td>\n",
       "    </tr>\n",
       "    <tr>\n",
       "      <th>29</th>\n",
       "      <td>Durango</td>\n",
       "      <td>279</td>\n",
       "      <td>38</td>\n",
       "    </tr>\n",
       "    <tr>\n",
       "      <th>30</th>\n",
       "      <td>Zacatecas</td>\n",
       "      <td>274</td>\n",
       "      <td>32</td>\n",
       "    </tr>\n",
       "    <tr>\n",
       "      <th>31</th>\n",
       "      <td>Colima</td>\n",
       "      <td>128</td>\n",
       "      <td>22</td>\n",
       "    </tr>\n",
       "  </tbody>\n",
       "</table>\n",
       "</div>"
      ],
      "text/plain": [
       "              Estado  Casos  Muertes\n",
       "0   Ciudad de México  21826     1945\n",
       "1   Estado de México  13140     1393\n",
       "2    Baja California   4590      771\n",
       "3            Tabasco   3484      438\n",
       "4           Veracruz   3374      444\n",
       "5            Sinaloa   2903      427\n",
       "6             Puebla   2458      419\n",
       "7         Nuevo León   2353       92\n",
       "8            Jalisco   1962      125\n",
       "9             Sonora   1809      139\n",
       "10      Quintana Roo   1729      323\n",
       "11         Chihuahua   1665      292\n",
       "12        Tamaulipas   1644       98\n",
       "13          Michoaca   1625      149\n",
       "14           Yucatan   1616      170\n",
       "15        Guanajuato   1564      127\n",
       "16           Hidalgo   1479      234\n",
       "17          Guerrero   1421      217\n",
       "18           Chiapas   1402      106\n",
       "19           Morelos   1297      261\n",
       "20            Oaxaca   1144      122\n",
       "21          Coahuila   1044       72\n",
       "22    Aguascalientes    972       33\n",
       "23          Tlaxcala    944      153\n",
       "24         Queretaro    813       96\n",
       "25   San Luis Potosi    786       46\n",
       "26     Baja Cal. Sur    557       33\n",
       "27          Campeche    583       58\n",
       "28           Nayarit    503       45\n",
       "29           Durango    279       38\n",
       "30         Zacatecas    274       32\n",
       "31            Colima    128       22"
      ]
     },
     "execution_count": 43,
     "metadata": {
      "tags": []
     },
     "output_type": "execute_result"
    }
   ],
   "source": [
    "# Mostramos en una tabla todos los registros estadísticos de cada estado\n",
    "dataFrameCovid2=pd.DataFrame(datos)\n",
    "dataFrameCovid2\n"
   ]
  },
  {
   "cell_type": "code",
   "execution_count": null,
   "metadata": {
    "colab": {},
    "colab_type": "code",
    "id": "JhW3CmsDsVdI",
    "outputId": "58ab93c3-00ad-47ad-97c7-1e29b77315e5"
   },
   "outputs": [
    {
     "data": {
      "image/png": "[encoded data removed]",
      "text/plain": [
       "<Figure size 432x288 with 1 Axes>"
      ]
     },
     "metadata": {
      "needs_background": "light",
      "tags": []
     },
     "output_type": "display_data"
    }
   ],
   "source": [
    "# Realizamos la representación gráfica con un diagrama de dispersión sobre los casos vs muertes registradas \n",
    "plt.scatter(dataFrameCovid2[\"Casos\"],dataFrameCovid2[\"Muertes\"])\n",
    "plt.xlabel(\"Casos\")\n",
    "plt.ylabel(\"Muertes\")\n",
    "plt.show()"
   ]
  },
  {
   "cell_type": "markdown",
   "metadata": {
    "colab_type": "text",
    "id": "msNtdVN2sVdU"
   },
   "source": [
    "La gráfica muesta datos dispersos, sin perder la tendencia lineal que se busca, sin embargo, solo para fines de visualización omitiremos los datos más alejados"
   ]
  },
  {
   "cell_type": "code",
   "execution_count": null,
   "metadata": {
    "colab": {},
    "colab_type": "code",
    "id": "4w7YtOimsVdV"
   },
   "outputs": [],
   "source": [
    "datos={\n",
    "    'Estado':['Baja California','Tabasco','Veracruz','Sinaloa','Puebla','Nuevo León','Jalisco','Sonora','Quintana Roo','Chihuahua','Tamaulipas','Michoaca','Yucatan','Guanajuato','Hidalgo','Guerrero','Chiapas','Morelos','Oaxaca','Coahuila','Aguascalientes','Tlaxcala','Queretaro','San Luis Potosi','Baja Cal. Sur','Campeche','Nayarit','Durango','Zacatecas','Colima'],\n",
    "    'Casos':[4590,3484,3374,2903,2458,2353,1962,1809,1729,1665,1644,1625,1616,1564,1479,1421,1402,1297,1144,1044,972,944,813,786,557,583,503,279,274,128],\n",
    "    'Muertes':[771,438,444,427,419,92,125,139,323,292,98,149,170,127,234,217,106,261,122,72,33,153,96,46,33,58,45,38,32,22]    \n",
    "}"
   ]
  },
  {
   "cell_type": "code",
   "execution_count": null,
   "metadata": {
    "colab": {},
    "colab_type": "code",
    "id": "APqQTL7DsVdd"
   },
   "outputs": [],
   "source": [
    "dataFrameCovid=pd.DataFrame(datos)"
   ]
  },
  {
   "cell_type": "code",
   "execution_count": null,
   "metadata": {
    "colab": {},
    "colab_type": "code",
    "id": "HbCxKJRZsVdo",
    "outputId": "6ce51621-43d4-47a2-e704-f0222bacbaec"
   },
   "outputs": [
    {
     "data": {
      "text/html": [
       "<div>\n",
       "<style scoped>\n",
       "    .dataframe tbody tr th:only-of-type {\n",
       "        vertical-align: middle;\n",
       "    }\n",
       "\n",
       "    .dataframe tbody tr th {\n",
       "        vertical-align: top;\n",
       "    }\n",
       "\n",
       "    .dataframe thead th {\n",
       "        text-align: right;\n",
       "    }\n",
       "</style>\n",
       "<table border=\"1\" class=\"dataframe\">\n",
       "  <thead>\n",
       "    <tr style=\"text-align: right;\">\n",
       "      <th></th>\n",
       "      <th>Estado</th>\n",
       "      <th>Casos</th>\n",
       "      <th>Muertes</th>\n",
       "    </tr>\n",
       "  </thead>\n",
       "  <tbody>\n",
       "    <tr>\n",
       "      <th>0</th>\n",
       "      <td>Baja California</td>\n",
       "      <td>4590</td>\n",
       "      <td>771</td>\n",
       "    </tr>\n",
       "    <tr>\n",
       "      <th>1</th>\n",
       "      <td>Tabasco</td>\n",
       "      <td>3484</td>\n",
       "      <td>438</td>\n",
       "    </tr>\n",
       "    <tr>\n",
       "      <th>2</th>\n",
       "      <td>Veracruz</td>\n",
       "      <td>3374</td>\n",
       "      <td>444</td>\n",
       "    </tr>\n",
       "    <tr>\n",
       "      <th>3</th>\n",
       "      <td>Sinaloa</td>\n",
       "      <td>2903</td>\n",
       "      <td>427</td>\n",
       "    </tr>\n",
       "    <tr>\n",
       "      <th>4</th>\n",
       "      <td>Puebla</td>\n",
       "      <td>2458</td>\n",
       "      <td>419</td>\n",
       "    </tr>\n",
       "    <tr>\n",
       "      <th>5</th>\n",
       "      <td>Nuevo León</td>\n",
       "      <td>2353</td>\n",
       "      <td>92</td>\n",
       "    </tr>\n",
       "    <tr>\n",
       "      <th>6</th>\n",
       "      <td>Jalisco</td>\n",
       "      <td>1962</td>\n",
       "      <td>125</td>\n",
       "    </tr>\n",
       "    <tr>\n",
       "      <th>7</th>\n",
       "      <td>Sonora</td>\n",
       "      <td>1809</td>\n",
       "      <td>139</td>\n",
       "    </tr>\n",
       "    <tr>\n",
       "      <th>8</th>\n",
       "      <td>Quintana Roo</td>\n",
       "      <td>1729</td>\n",
       "      <td>323</td>\n",
       "    </tr>\n",
       "    <tr>\n",
       "      <th>9</th>\n",
       "      <td>Chihuahua</td>\n",
       "      <td>1665</td>\n",
       "      <td>292</td>\n",
       "    </tr>\n",
       "    <tr>\n",
       "      <th>10</th>\n",
       "      <td>Tamaulipas</td>\n",
       "      <td>1644</td>\n",
       "      <td>98</td>\n",
       "    </tr>\n",
       "    <tr>\n",
       "      <th>11</th>\n",
       "      <td>Michoaca</td>\n",
       "      <td>1625</td>\n",
       "      <td>149</td>\n",
       "    </tr>\n",
       "    <tr>\n",
       "      <th>12</th>\n",
       "      <td>Yucatan</td>\n",
       "      <td>1616</td>\n",
       "      <td>170</td>\n",
       "    </tr>\n",
       "    <tr>\n",
       "      <th>13</th>\n",
       "      <td>Guanajuato</td>\n",
       "      <td>1564</td>\n",
       "      <td>127</td>\n",
       "    </tr>\n",
       "    <tr>\n",
       "      <th>14</th>\n",
       "      <td>Hidalgo</td>\n",
       "      <td>1479</td>\n",
       "      <td>234</td>\n",
       "    </tr>\n",
       "    <tr>\n",
       "      <th>15</th>\n",
       "      <td>Guerrero</td>\n",
       "      <td>1421</td>\n",
       "      <td>217</td>\n",
       "    </tr>\n",
       "    <tr>\n",
       "      <th>16</th>\n",
       "      <td>Chiapas</td>\n",
       "      <td>1402</td>\n",
       "      <td>106</td>\n",
       "    </tr>\n",
       "    <tr>\n",
       "      <th>17</th>\n",
       "      <td>Morelos</td>\n",
       "      <td>1297</td>\n",
       "      <td>261</td>\n",
       "    </tr>\n",
       "    <tr>\n",
       "      <th>18</th>\n",
       "      <td>Oaxaca</td>\n",
       "      <td>1144</td>\n",
       "      <td>122</td>\n",
       "    </tr>\n",
       "    <tr>\n",
       "      <th>19</th>\n",
       "      <td>Coahuila</td>\n",
       "      <td>1044</td>\n",
       "      <td>72</td>\n",
       "    </tr>\n",
       "    <tr>\n",
       "      <th>20</th>\n",
       "      <td>Aguascalientes</td>\n",
       "      <td>972</td>\n",
       "      <td>33</td>\n",
       "    </tr>\n",
       "    <tr>\n",
       "      <th>21</th>\n",
       "      <td>Tlaxcala</td>\n",
       "      <td>944</td>\n",
       "      <td>153</td>\n",
       "    </tr>\n",
       "    <tr>\n",
       "      <th>22</th>\n",
       "      <td>Queretaro</td>\n",
       "      <td>813</td>\n",
       "      <td>96</td>\n",
       "    </tr>\n",
       "    <tr>\n",
       "      <th>23</th>\n",
       "      <td>San Luis Potosi</td>\n",
       "      <td>786</td>\n",
       "      <td>46</td>\n",
       "    </tr>\n",
       "    <tr>\n",
       "      <th>24</th>\n",
       "      <td>Baja Cal. Sur</td>\n",
       "      <td>557</td>\n",
       "      <td>33</td>\n",
       "    </tr>\n",
       "    <tr>\n",
       "      <th>25</th>\n",
       "      <td>Campeche</td>\n",
       "      <td>583</td>\n",
       "      <td>58</td>\n",
       "    </tr>\n",
       "    <tr>\n",
       "      <th>26</th>\n",
       "      <td>Nayarit</td>\n",
       "      <td>503</td>\n",
       "      <td>45</td>\n",
       "    </tr>\n",
       "    <tr>\n",
       "      <th>27</th>\n",
       "      <td>Durango</td>\n",
       "      <td>279</td>\n",
       "      <td>38</td>\n",
       "    </tr>\n",
       "    <tr>\n",
       "      <th>28</th>\n",
       "      <td>Zacatecas</td>\n",
       "      <td>274</td>\n",
       "      <td>32</td>\n",
       "    </tr>\n",
       "    <tr>\n",
       "      <th>29</th>\n",
       "      <td>Colima</td>\n",
       "      <td>128</td>\n",
       "      <td>22</td>\n",
       "    </tr>\n",
       "  </tbody>\n",
       "</table>\n",
       "</div>"
      ],
      "text/plain": [
       "             Estado  Casos  Muertes\n",
       "0   Baja California   4590      771\n",
       "1           Tabasco   3484      438\n",
       "2          Veracruz   3374      444\n",
       "3           Sinaloa   2903      427\n",
       "4            Puebla   2458      419\n",
       "5        Nuevo León   2353       92\n",
       "6           Jalisco   1962      125\n",
       "7            Sonora   1809      139\n",
       "8      Quintana Roo   1729      323\n",
       "9         Chihuahua   1665      292\n",
       "10       Tamaulipas   1644       98\n",
       "11         Michoaca   1625      149\n",
       "12          Yucatan   1616      170\n",
       "13       Guanajuato   1564      127\n",
       "14          Hidalgo   1479      234\n",
       "15         Guerrero   1421      217\n",
       "16          Chiapas   1402      106\n",
       "17          Morelos   1297      261\n",
       "18           Oaxaca   1144      122\n",
       "19         Coahuila   1044       72\n",
       "20   Aguascalientes    972       33\n",
       "21         Tlaxcala    944      153\n",
       "22        Queretaro    813       96\n",
       "23  San Luis Potosi    786       46\n",
       "24    Baja Cal. Sur    557       33\n",
       "25         Campeche    583       58\n",
       "26          Nayarit    503       45\n",
       "27          Durango    279       38\n",
       "28        Zacatecas    274       32\n",
       "29           Colima    128       22"
      ]
     },
     "execution_count": 17,
     "metadata": {
      "tags": []
     },
     "output_type": "execute_result"
    }
   ],
   "source": [
    "dataFrameCovid"
   ]
  },
  {
   "cell_type": "code",
   "execution_count": null,
   "metadata": {
    "colab": {},
    "colab_type": "code",
    "id": "g-H0Pe49sVdv",
    "outputId": "0c96179b-fb61-4e6b-f03a-96faddce19ed"
   },
   "outputs": [
    {
     "data": {
      "image/png": "[encoded data removed]",
      "text/plain": [
       "<Figure size 432x288 with 1 Axes>"
      ]
     },
     "metadata": {
      "needs_background": "light",
      "tags": []
     },
     "output_type": "display_data"
    }
   ],
   "source": [
    "plt.scatter(dataFrameCovid[\"Casos\"],dataFrameCovid[\"Muertes\"])\n",
    "plt.xlabel(\"Casos\")\n",
    "plt.ylabel(\"Muertes\")\n",
    "plt.show()"
   ]
  },
  {
   "cell_type": "markdown",
   "metadata": {
    "colab_type": "text",
    "id": "Ui3L-68zsVd1"
   },
   "source": [
    "Observamos que la gráfica muestra un comportamiento lineal, por lo que se comprabará a continuación obteniendo el coeficiente de correlación. Los casos correspenderan a la variable independiente \"x\", por ende el numero de muertes sera la varieble dependiente \"y\"\n"
   ]
  },
  {
   "cell_type": "markdown",
   "metadata": {
    "colab_type": "text",
    "id": "jzvlPdeVsVd4"
   },
   "source": [
    "El coeficiente de correlación se obtiene de la siguiente manera:\n",
    "    $r=\\frac{Sxy}{\\sqrt{Sxx*Sxy}}$\n",
    "    \n",
    "   donde:\n",
    "    \n",
    "  $S_(xy)=\\sum_{i=1}^{n}(x_i-xmedia)(y_i-ymedia)$\n",
    "  \n",
    "  $S_(yy)=\\sum_{i=1}^{n}(y_i-ymedia)^2$\n",
    "  \n",
    "  $S_(xx)=\\sum_{i=1}^{n}(x_i-xmedia)^2$\n",
    "  \n",
    "  \n",
    "    "
   ]
  },
  {
   "cell_type": "code",
   "execution_count": null,
   "metadata": {
    "colab": {},
    "colab_type": "code",
    "id": "2eWN6OpesVd7",
    "outputId": "e83b49ce-576c-4e8b-d123-6346bbbcc596"
   },
   "outputs": [
    {
     "name": "stdout",
     "output_type": "stream",
     "text": [
      " x media= 2542.75\n",
      " y media= 278.75\n"
     ]
    }
   ],
   "source": [
    "xmedia=np.mean(Casos)\n",
    "ymedia=np.mean(Muertes)\n",
    "print(\" x media=\",np.mean(Casos))\n",
    "print(\" y media=\",np.mean(Muertes))"
   ]
  },
  {
   "cell_type": "code",
   "execution_count": null,
   "metadata": {
    "colab": {},
    "colab_type": "code",
    "id": "WwPAvnRCsVeB",
    "outputId": "c5375aa9-097a-4124-b9aa-513c837c3cf8"
   },
   "outputs": [
    {
     "name": "stdout",
     "output_type": "stream",
     "text": [
      "xmenos_media [19283.25, 10597.25, 2047.25, 941.25, 831.25, 360.25, -84.75, -189.75, -580.75, -733.75, -813.75, -877.75, -898.75, -917.75, -926.75, -978.75, -1063.75, -1121.75, -1140.75, -1245.75, -1398.75, -1498.75, -1570.75, -1598.75, -1729.75, -1756.75, -1985.75, -1959.75, -2039.75, -2263.75, -2268.75, -2414.75]\n",
      "0.0\n",
      "ymenos_media: [1666.25, 1114.25, 492.25, 159.25, 165.25, 148.25, 140.25, -186.75, -153.75, -139.75, 44.25, 13.25, -180.75, -129.75, -108.75, -151.75, -44.75, -61.75, -172.75, -17.75, -156.75, -206.75, -245.75, -125.75, -182.75, -232.75, -245.75, -220.75, -233.75, -240.75, -246.75, -256.75]\n",
      "0.0\n"
     ]
    }
   ],
   "source": [
    "xmenos_media=[]\n",
    "ymenos_media=[]\n",
    "\n",
    "\n",
    "for i in range(0,len(Casos)):\n",
    "    elemento=Casos[i]-xmedia\n",
    "    xmenos_media.append(elemento)\n",
    "print(\"xmenos_media\",(xmenos_media))\n",
    "print(sum(xmenos_media))\n",
    "\n",
    "for i in range(0,len(Muertes)):\n",
    "    elemento=Muertes[i]-ymedia\n",
    "    ymenos_media.append(elemento)\n",
    "print(\"ymenos_media:\",ymenos_media)\n",
    "print(sum(ymenos_media))\n"
   ]
  },
  {
   "cell_type": "code",
   "execution_count": null,
   "metadata": {
    "colab": {},
    "colab_type": "code",
    "id": "9IcmUH8ssVeH",
    "outputId": "cfcd7b36-5360-492b-81c0-d2936ed02ae3"
   },
   "outputs": [
    {
     "name": "stdout",
     "output_type": "stream",
     "text": [
      "Sxx 544456212.0\n"
     ]
    }
   ],
   "source": [
    "xmenos_cuadrada=[]\n",
    "\n",
    "for i in range(0,len(Casos)):\n",
    "    elemento=(xmenos_media[i]*xmenos_media[i])\n",
    "    xmenos_cuadrada.append(elemento)\n",
    "\n",
    "#Sxx[31]\n",
    "#xmenos_media[31]\n",
    "sxx=sum(xmenos_cuadrada)\n",
    "print(\"Sxx:\",sxx)\n",
    "    "
   ]
  },
  {
   "cell_type": "code",
   "execution_count": null,
   "metadata": {
    "colab": {},
    "colab_type": "code",
    "id": "H3VZb3wnsVeQ",
    "outputId": "6abe2608-9696-47e5-cb67-296e3d1b13a6"
   },
   "outputs": [
    {
     "name": "stdout",
     "output_type": "stream",
     "text": [
      "Syy: 5134702.0\n"
     ]
    }
   ],
   "source": [
    "# Realizamos los cálculos necesarios y los almacenamos dentro de dos listas respectivamente\n",
    "ymenos_cuadrada=[]\n",
    "\n",
    "for i in range(0,len(Casos)):\n",
    "    elemento=(ymenos_media[i]*ymenos_media[i])\n",
    "    ymenos_cuadrada.append(elemento)\n",
    "\n",
    "#Sxx[31]\n",
    "#xmenos_media[31]\n",
    "syy=sum(ymenos_cuadrada)\n",
    "print(\"Syy:\",syy)"
   ]
  },
  {
   "cell_type": "code",
   "execution_count": null,
   "metadata": {
    "colab": {},
    "colab_type": "code",
    "id": "kfPgZUsUsVeW",
    "outputId": "d6b101be-5110-446e-abed-00460c907e13"
   },
   "outputs": [
    {
     "name": "stdout",
     "output_type": "stream",
     "text": [
      "Sxy: 51285126.0\n"
     ]
    }
   ],
   "source": [
    "xmen_ymen=[]\n",
    "\n",
    "for i in range(0,len(Casos)):\n",
    "    elemento=(xmenos_media[i]*ymenos_media[i])\n",
    "    xmen_ymen.append(elemento)\n",
    "#print(Sxy[0])\n",
    "\n",
    "sxy=sum(xmen_ymen)\n",
    "print(\"Sxy:\",sxy)"
   ]
  },
  {
   "cell_type": "code",
   "execution_count": null,
   "metadata": {
    "colab": {},
    "colab_type": "code",
    "id": "uhjN3fAjsVed",
    "outputId": "d94be540-6f14-4cda-bb1e-263e9b309a12"
   },
   "outputs": [
    {
     "data": {
      "text/plain": [
       "0.9699566532218736"
      ]
     },
     "execution_count": 117,
     "metadata": {
      "tags": []
     },
     "output_type": "execute_result"
    }
   ],
   "source": [
    "correlacion=sxy/math.sqrt(syy*sxx)\n"
   ]
  },
  {
   "cell_type": "markdown",
   "metadata": {
    "colab_type": "text",
    "id": "CvVSMMmYsVem"
   },
   "source": [
    "   $r=\\frac{Sxy}{\\sqrt{Sxx*Sxy}}=\\frac{51285126.0}{\\sqrt{544456212.0*5134702.0}}=.9699566$\n",
    "   \n",
    "   Por lo que se puede decir que los datos mantienen una fuerza de asociación lineal muy fuerte, siendo r=1 el valor ideal"
   ]
  },
  {
   "cell_type": "markdown",
   "metadata": {
    "colab_type": "text",
    "id": "DHOXSftlsVen"
   },
   "source": [
    "Ahora se obtendrá el modelo matematico de la y estimada\n",
    "\n",
    "$y_(estimada)=\\beta_0+\\beta_1x$\n",
    "\n",
    "   donde:\n",
    "   \n",
    "   $\\beta_1=\\frac{Sxy}{Sxx}$\n",
    "   \n",
    "   $\\beta_0=y(media)-\\frac{Sxy}{Sxx}xmedia$\n",
    "   "
   ]
  },
  {
   "cell_type": "code",
   "execution_count": null,
   "metadata": {
    "colab": {},
    "colab_type": "code",
    "id": "e_caFFHbsVer"
   },
   "outputs": [],
   "source": [
    "bo=ymedia-(sxy/sxx)*xmedia\n"
   ]
  },
  {
   "cell_type": "markdown",
   "metadata": {
    "colab_type": "text",
    "id": "ej506eOfsVez"
   },
   "source": [
    "$\\beta_0=y(media)-\\frac{Sxy}{Sxx}xmedia=39.2553$"
   ]
  },
  {
   "cell_type": "code",
   "execution_count": null,
   "metadata": {
    "colab": {},
    "colab_type": "code",
    "id": "IVzfg8dtsVe0",
    "outputId": "1eca641e-d4d3-4e01-f5b5-c174ba4dae86"
   },
   "outputs": [
    {
     "data": {
      "text/plain": [
       "0.09419513428198335"
      ]
     },
     "execution_count": 150,
     "metadata": {
      "tags": []
     },
     "output_type": "execute_result"
    }
   ],
   "source": [
    "b1=sxy/sxx\n",
    "b1"
   ]
  },
  {
   "cell_type": "markdown",
   "metadata": {
    "colab_type": "text",
    "id": "zVQjY6R_sVfA"
   },
   "source": [
    "  $\\beta_1=\\frac{Sxy}{Sxx}=.094195$"
   ]
  },
  {
   "cell_type": "markdown",
   "metadata": {
    "colab_type": "text",
    "id": "PlqMRQ8IsVfB"
   },
   "source": [
    "Por lo que se obtiene:\n",
    "    $y_(estimada)=39.2553+.094195x$\n",
    "    "
   ]
  },
  {
   "cell_type": "code",
   "execution_count": null,
   "metadata": {
    "colab": {},
    "colab_type": "code",
    "id": "zMMBK9aUsVfC",
    "outputId": "7a24930e-1466-462c-be08-798b6e1c1ab2"
   },
   "outputs": [
    {
     "data": {
      "image/png": "[encoded data removed]",
      "text/plain": [
       "<Figure size 432x288 with 1 Axes>"
      ]
     },
     "metadata": {
      "needs_background": "light",
      "tags": []
     },
     "output_type": "display_data"
    }
   ],
   "source": [
    "x=np.arange(0,22000,10)\n",
    "\n",
    "y=bo+b1*x\n",
    "\n",
    "plt.plot(x,y)\n",
    "\n",
    "plt.scatter(dataFrameCovid2[\"Casos\"],dataFrameCovid2[\"Muertes\"],color=\"red\")\n",
    "plt.xlabel(\"Casos\")\n",
    "plt.ylabel(\"Muertes\")\n",
    "plt.show()\n"
   ]
  },
  {
   "cell_type": "markdown",
   "metadata": {
    "colab_type": "text",
    "id": "7Th33z3CsVfG"
   },
   "source": [
    "## Ahora realizaremos el mismo procemiento pero usando la libreria de Python Sklearn"
   ]
  },
  {
   "cell_type": "code",
   "execution_count": null,
   "metadata": {
    "colab": {},
    "colab_type": "code",
    "id": "r5NfAI05sVfH"
   },
   "outputs": [],
   "source": [
    "X=dataFrameCovid2[\"Casos\"].values.reshape(-1,1)\n",
    "Y=dataFrameCovid2[\"Muertes\"].values.reshape(-1,1)\n",
    "\n",
    "linear_regressor=LinearRegression()\n",
    "linear_regressor.fit(X,Y)\n",
    "Y_pred=linear_regressor.predict(X)"
   ]
  },
  {
   "cell_type": "code",
   "execution_count": null,
   "metadata": {
    "colab": {},
    "colab_type": "code",
    "id": "9qaCRVxosVfN"
   },
   "outputs": [],
   "source": [
    "m=linear_regressor.coef_[0][0]\n",
    "c=linear_regressor.intercept_[0]\n",
    "label=r\"$Casos= %0.4f*Casos%+0.4f$\"%(m,c)\n"
   ]
  },
  {
   "cell_type": "code",
   "execution_count": null,
   "metadata": {
    "colab": {},
    "colab_type": "code",
    "id": "TKmr3AmlsVfT",
    "outputId": "4d75fed8-8f2f-4baa-8e00-0f1b20c6701a"
   },
   "outputs": [
    {
     "data": {
      "image/png": "[encoded data removed]",
      "text/plain": [
       "<Figure size 432x288 with 1 Axes>"
      ]
     },
     "metadata": {
      "needs_background": "light",
      "tags": []
     },
     "output_type": "display_data"
    }
   ],
   "source": [
    "# Realizamos su representación gráfica trazando una recta pendiente sobre la \n",
    "# gráfica de dispersión ya creada anteriormente\n",
    "plt.scatter(dataFrameCovid2[\"Casos\"],dataFrameCovid2[\"Muertes\"])\n",
    "plt.plot(X,Y_pred,color=\"red\",label=label)\n",
    "plt.ylabel(\"Muertes\")\n",
    "plt.xlabel(\"Casos\")\n",
    "plt.legend()\n",
    "plt.show()"
   ]
  }
 ],
 "metadata": {
  "colab": {
   "collapsed_sections": [],
   "name": "Proyecto2.ipynb",
   "provenance": []
  },
  "kernelspec": {
   "display_name": "Python 3",
   "language": "python",
   "name": "python3"
  },
  "language_info": {
   "codemirror_mode": {
    "name": "ipython",
    "version": 3
   },
   "file_extension": ".py",
   "mimetype": "text/x-python",
   "name": "python",
   "nbconvert_exporter": "python",
   "pygments_lexer": "ipython3",
   "version": "3.7.6"
  }
 },
 "nbformat": 4,
 "nbformat_minor": 4
}
